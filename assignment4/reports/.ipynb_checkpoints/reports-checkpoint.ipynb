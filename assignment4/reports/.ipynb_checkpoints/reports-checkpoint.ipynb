{
 "cells": [
  {
   "cell_type": "markdown",
   "metadata": {},
   "source": [
    "<h1><center>Assignment 4</center></h1>\n",
    "<h4><center>Pin-Jie Lin</center></h4>\n",
    "<center>pili00001@stud.uni-saarland.de</center>\n",
    "<center>https://github.com/pjlintw/CL20/tree/main/assignment4</center>"
   ]
  },
  {
   "cell_type": "markdown",
   "metadata": {},
   "source": [
    "**Introduction** Implementation of the IBM model aligner. We build a IBM model 1 to align English-French setence pairs. We compare the implementation model with other model 1 implementation and higher version IBM model `fast_align` on the hansards parallel sentences.## 1 Implementation of POS tagging with HMMs"
   ]
  },
  {
   "cell_type": "markdown",
   "metadata": {},
   "source": [
    "## Setup and Data\n",
    "\n",
    "1. python version and dependencies \n",
    "\n",
    "We uses python 3.7. Before execute file, please install the dependencies:\n",
    "`pip install -r requirements.txt`\n",
    "\n",
    "2. prepare data and evaluation script\n",
    "\n",
    "The implementation utilise sentence files under the `hw2/data/` folder. \n",
    "Make sure those files (`hansards.f`, `hansards.a`, `hansards.e`) are included.\n",
    "\n",
    "We use `score-alignments` for calculating precision, recall and alignment error rate."
   ]
  },
  {
   "cell_type": "markdown",
   "metadata": {},
   "source": [
    "# CL20: Assignment 4\n",
    "\n",
    "Implementation of the IBM model aligner. We build a IBM model 1 to align English-French setence pairs. We compare the implementation model with other model 1 implementation and higher version IBM model `fast_align` on the hansards parallel sentences.\n",
    "\n",
    "## Setup and Data\n",
    "\n",
    "1. python version and dependencies \n",
    "\n",
    "We uses python 3.7. Before execute file, please install the dependencies:\n",
    "`pip install -r requirements.txt`\n",
    "\n",
    "2. prepare data and evaluation script\n",
    "\n",
    "The implementation utilise sentence files under the `hw2/data/` folder. \n",
    "Make sure those files (`hansards.f`, `hansards.a`, `hansards.e`) are included.\n",
    "\n",
    "We use `score-alignments` for calculating precision, recall and alignment error rate.\n",
    "\n",
    "### Result Files \n",
    "\n",
    "We test the baseline model, our implementation, compare it with another implemenation and IBM model 2 `fast_align` to discuss their performances.\n",
    "All the file are collected in `results`.\n",
    "\n",
    "* `results/dice.a`: Evaluating result of baseline model.\n",
    "* `results/myIBM-#k`: Evaluating result of our IBM model 1.\n",
    "* `results/dice-#k.a`: Evaluating result of another IBM model 1 implementation. \n",
    "* `results/reverse-#k.align`: Evaluating result of `fast_align` .\n",
    "\n",
    "## Run the aligner\n",
    "\n",
    "### Basic Usage\n",
    "\n",
    "Our aligner provides simialr user-interative-command as the baseline aligner\n",
    "To run our code, you can do: \n",
    "\n",
    "```\n",
    "python run_aligner.py -n 10000 > myIBM-1k\n",
    "```\n",
    "\n",
    "The file `myIBM-1k` will have 1000 aligments for each sentence pair:\n",
    "```\n",
    "0-9 1-21 2-9 3-9 4-9 5-9 6-9 7-9 8-14 9-8 10-9\n",
    "0-1 1-1 2-1 3-1 4-1 5-1 6-1 7-1 8-1 9-1 10-4 \n",
    "...\n",
    "...\n",
    "```\n",
    "\n",
    "### Evaluate the result\n",
    "\n",
    "To evaluate the result, you should use `score-alignments`. We uses the scripts for all the experiements we have tried.\n",
    "\n",
    "```\n",
    "python score-alignments < myIBM-1k\n",
    "```\n",
    "\n",
    "### Compare with other Implemenation \n",
    "\n",
    "We compare our implementation with other on 1000, 3000 and 500k sentence pairs. It gives similar results between the two implementations.\n",
    "\n",
    "![alt text](../img/img1.png)\n",
    "\n",
    "\n",
    "### Compare with `fast_align`\n",
    "\n",
    "We evaluates our IBM model 1 with the second version of model `fast_align` on different scale datasets. We set the iteration 1 and train them on 10000, 30000, 50000, 80000 sentence pairs. \n",
    "\n",
    "Both models perform better when increasing training examples. The `fast_align` can achieve the 28 accuracy with only 1000 examples but our IBM model requires 8x examples. In the recall score, the `fast_align` on 1k, 3k, 5k and 8k are not as good as its precision.   \n",
    "\n",
    "![alt text](../img/img2.png)\n",
    "\n",
    "\n",
    "### Visualizations \n",
    "\n",
    "We visualize the a aligments example from our implemenation and the baseline. \n",
    "\n",
    "Alignments (our)             |  Alignment (other)\n",
    ":-------------------------:|:-------------------------:\n",
    "![](../img3-align33-our.png)  |  ![](../img3-align33-baseline.png)\n"
   ]
  },
  {
   "cell_type": "code",
   "execution_count": null,
   "metadata": {},
   "outputs": [],
   "source": []
  }
 ],
 "metadata": {
  "kernelspec": {
   "display_name": "Python [conda env:CL20] *",
   "language": "python",
   "name": "conda-env-CL20-py"
  },
  "language_info": {
   "codemirror_mode": {
    "name": "ipython",
    "version": 3
   },
   "file_extension": ".py",
   "mimetype": "text/x-python",
   "name": "python",
   "nbconvert_exporter": "python",
   "pygments_lexer": "ipython3",
   "version": "3.7.0"
  }
 },
 "nbformat": 4,
 "nbformat_minor": 4
}
