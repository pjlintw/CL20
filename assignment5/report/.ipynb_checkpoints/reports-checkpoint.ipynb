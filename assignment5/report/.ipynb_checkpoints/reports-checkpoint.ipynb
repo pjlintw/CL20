{
 "cells": [
  {
   "cell_type": "markdown",
   "metadata": {},
   "source": [
    "<h1><center>Assignment 5</center></h1>\n",
    "<h4><center>Pin-Jie Lin</center></h4>\n",
    "<center>pili00001@stud.uni-saarland.de</center>\n",
    "<center>https://github.com/pjlintw/CL20/tree/main/assignment5</center>"
   ]
  },
  {
   "cell_type": "markdown",
   "metadata": {},
   "source": [
    "## 1. Introduction\n",
    "In the report, we demonstrate the comparison between our IBM model 1 and other implementations, namely another IBM model 1 and the second version `fast_align`. You can run it with the code:\n",
    "\n",
    "```\n",
    "python run_aligner.py -n 10000 > myIBM-1k\n",
    "```\n"
   ]
  },
  {
   "cell_type": "markdown",
   "metadata": {},
   "source": [
    "For all the evalution, we use the script `score-alignments`. \n",
    "```\n",
    "python score-alignments < myIBM-1k\n",
    "```"
   ]
  },
  {
   "cell_type": "markdown",
   "metadata": {},
   "source": [
    "## 2. Compare with other Implemenation \n",
    "\n",
    "We compare our implementation with other on 1000, 3000 and 500k sentence pairs. It gives similar results between the two implementations.\n",
    "\n",
    "![alt text](../img/img1.png)"
   ]
  },
  {
   "cell_type": "markdown",
   "metadata": {},
   "source": [
    "## 3. Compare with `fast_align`\n",
    "\n",
    "We evaluates our IBM model 1 with the second version of model `fast_align` on different scale datasets. We set the iteration 1 and train them on 10000, 30000, 50000, 80000 sentence pairs. \n",
    "\n",
    "Both models perform better when increasing training examples. The `fast_align` can achieve the 28 accuracy with only 1000 examples but our IBM model requires 8x examples. In the recall score, the `fast_align` on 1k, 3k, 5k and 8k are not as good as its precision.   \n",
    "\n",
    "![alt text](../img/img2.png)"
   ]
  },
  {
   "cell_type": "markdown",
   "metadata": {},
   "source": [
    "## 4. Visualizations \n",
    "\n",
    "We visualize the a aligments example from our implemenation and the baseline. \n",
    "\n",
    "Alignments (our)             |  Alignment (other)\n",
    ":-------------------------:|:-------------------------:\n",
    "![](../img/img3-align33-our.png)  |  ![](../img/img4-align33-baseline.png)"
   ]
  }
 ],
 "metadata": {
  "kernelspec": {
   "display_name": "Python [conda env:CL20] *",
   "language": "python",
   "name": "conda-env-CL20-py"
  },
  "language_info": {
   "codemirror_mode": {
    "name": "ipython",
    "version": 3
   },
   "file_extension": ".py",
   "mimetype": "text/x-python",
   "name": "python",
   "nbconvert_exporter": "python",
   "pygments_lexer": "ipython3",
   "version": "3.7.0"
  }
 },
 "nbformat": 4,
 "nbformat_minor": 4
}
